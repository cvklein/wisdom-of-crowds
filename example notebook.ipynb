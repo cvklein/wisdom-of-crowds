{
 "cells": [
  {
   "cell_type": "code",
   "execution_count": 4,
   "metadata": {},
   "outputs": [],
   "source": [
    "import networkx as nx\n",
    "from wisdom_of_crowds import Crowd\n",
    "import random\n",
    "import datetime\n",
    "from collections import Counter\n",
    "import matplotlib.pyplot as plt"
   ]
  },
  {
   "cell_type": "code",
   "execution_count": 2,
   "metadata": {},
   "outputs": [
    {
     "name": "stdout",
     "output_type": "stream",
     "text": [
      "DiGraph with 5000 nodes and 12491 edges\n",
      "2021-10-17 18:31:07.592871\n",
      "total elapsed: 0:00:11.505595\n"
     ]
    }
   ],
   "source": [
    "BG = nx.generators.random_graphs.fast_gnp_random_graph(5000, 0.0005, seed=1, directed=True)\n",
    "for node in BG:\n",
    "    coin = random.randint(0, 1)\n",
    "    BG.nodes[node]['T'] = coin\n",
    "print(BG)\n",
    "\n",
    "start = datetime.datetime.now()\n",
    "print(start)\n",
    "hs = [] \n",
    "test = Crowd(BG)\n",
    "for node in test.node_set:\n",
    "    hs.append(test.h_measure(node))\n",
    "print(\"total elapsed:\",datetime.datetime.now()-start)"
   ]
  },
  {
   "cell_type": "code",
   "execution_count": 5,
   "metadata": {},
   "outputs": [
    {
     "name": "stdout",
     "output_type": "stream",
     "text": [
      "[(2, 1292), (3, 1159), (1, 988), (4, 706), (0, 414), (5, 338), (6, 103)]\n"
     ]
    },
    {
     "data": {
      "image/png": "[encoded data removed]",
      "text/plain": [
       "<Figure size 864x432 with 1 Axes>"
      ]
     },
     "metadata": {
      "needs_background": "light"
     },
     "output_type": "display_data"
    }
   ],
   "source": [
    "c = Counter(hs)\n",
    "print(c.most_common())\n",
    "\n",
    "plt.figure(figsize=(12,6))\n",
    "xs = range(7)\n",
    "ys = [c[x] for x in xs]\n",
    "plt.scatter(xs,ys)\n",
    "plt.xlabel('h_measure')\n",
    "plt.ylabel('count')\n",
    "plt.show()"
   ]
  },
  {
   "cell_type": "code",
   "execution_count": null,
   "metadata": {},
   "outputs": [],
   "source": []
  }
 ],
 "metadata": {
  "kernelspec": {
   "display_name": "Python 3",
   "language": "python",
   "name": "python3"
  },
  "language_info": {
   "codemirror_mode": {
    "name": "ipython",
    "version": 3
   },
   "file_extension": ".py",
   "mimetype": "text/x-python",
   "name": "python",
   "nbconvert_exporter": "python",
   "pygments_lexer": "ipython3",
   "version": "3.7.4"
  }
 },
 "nbformat": 4,
 "nbformat_minor": 2
}
