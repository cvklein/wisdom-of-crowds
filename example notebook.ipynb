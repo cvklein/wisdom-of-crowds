{
 "cells": [
  {
   "cell_type": "code",
   "execution_count": 1,
   "metadata": {},
   "outputs": [],
   "source": [
    "import networkx as nx\n",
    "from wisdom_of_crowds import Crowd\n",
    "import random\n",
    "import datetime\n",
    "from collections import Counter\n",
    "import matplotlib.pyplot as plt"
   ]
  },
  {
   "cell_type": "code",
   "execution_count": 2,
   "metadata": {},
   "outputs": [
    {
     "name": "stdout",
     "output_type": "stream",
     "text": [
      "DiGraph with 5000 nodes and 12491 edges\n",
      "2021-10-27 16:20:27.993884\n",
      "total elapsed: 0:00:21.329017\n"
     ]
    }
   ],
   "source": [
    "BG = nx.generators.random_graphs.fast_gnp_random_graph(5000, 0.0005, seed=1, directed=True)\n",
    "for node in BG:\n",
    "    coin = random.randint(0, 1)\n",
    "    BG.nodes[node]['T'] = coin\n",
    "print(BG)\n",
    "\n",
    "start = datetime.datetime.now()\n",
    "print(start)\n",
    "hs = [] \n",
    "test = Crowd(BG)\n",
    "for node in test.node_set:\n",
    "    hs.append(test.h_measure(node))\n",
    "print(\"total elapsed:\",datetime.datetime.now()-start)"
   ]
  },
  {
   "cell_type": "code",
   "execution_count": 3,
   "metadata": {},
   "outputs": [
    {
     "name": "stdout",
     "output_type": "stream",
     "text": [
      "[(2, 1292), (3, 1159), (1, 988), (4, 706), (0, 414), (5, 338), (6, 103)]\n"
     ]
    },
    {
     "data": {
      "image/png": "[encoded data removed]",
      "text/plain": [
       "<Figure size 864x432 with 1 Axes>"
      ]
     },
     "metadata": {
      "needs_background": "light"
     },
     "output_type": "display_data"
    }
   ],
   "source": [
    "c = Counter(hs)\n",
    "print(c.most_common())\n",
    "\n",
    "plt.figure(figsize=(12,6))\n",
    "xs = range(7)\n",
    "ys = [c[x] for x in xs]\n",
    "plt.scatter(xs,ys)\n",
    "plt.xlabel('h_measure')\n",
    "plt.ylabel('count')\n",
    "plt.show()"
   ]
  },
  {
   "cell_type": "markdown",
   "metadata": {},
   "source": [
    "Generate random small DiGraph to test out D_edge()\n",
    "Nodes are labelled by the (randomly assigned between 1 and 6) topic they transmit, each transmitting only one."
   ]
  },
  {
   "cell_type": "code",
   "execution_count": 14,
   "metadata": {},
   "outputs": [
    {
     "name": "stdout",
     "output_type": "stream",
     "text": [
      "Node:  0 Topic:  4 Predecessors:  1 2 10 11 \n",
      "Node:  1 Topic:  2 Predecessors:  5 \n",
      "Node:  2 Topic:  2 Predecessors:  3 4 6 7 \n",
      "Node:  3 Topic:  3 Predecessors:  8 \n",
      "Node:  4 Topic:  6 Predecessors:  \n",
      "Node:  5 Topic:  3 Predecessors:  9 \n",
      "Node:  6 Topic:  4 Predecessors:  \n",
      "Node:  7 Topic:  6 Predecessors:  \n",
      "Node:  8 Topic:  2 Predecessors:  \n",
      "Node:  9 Topic:  5 Predecessors:  \n",
      "Node:  10 Topic:  6 Predecessors:  \n",
      "Node:  11 Topic:  2 Predecessors:  \n"
     ]
    },
    {
     "data": {
      "image/png": "[encoded data removed]",
      "text/plain": [
       "<Figure size 432x288 with 1 Axes>"
      ]
     },
     "metadata": {},
     "output_type": "display_data"
    }
   ],
   "source": [
    "seed = 1  # Seed random number generators for reproducibility\n",
    "DG = nx.gn_graph(12, seed=seed)\n",
    "labels = {}\n",
    "for node in DG:\n",
    "    die = random.randint(0, 5) + 1\n",
    "    DG.nodes[node]['T'] = die\n",
    "    labels[node] = DG.nodes[node]['T'] #using dictionary lookup rather than just assigning value of die as the label to make sure values have been assigned to nodes correctly\n",
    "    output = str()\n",
    "    for p in DG.predecessors(node):\n",
    "        output += str(p)\n",
    "        output += \" \"\n",
    "    print(\"Node: \", node, \"Topic: \", DG.nodes[node]['T'], \"Predecessors: \", output)\n",
    "nx.draw(DG, labels=labels)\n",
    "\n",
    "edge_test = Crowd(DG)\n"
   ]
  },
  {
   "cell_type": "markdown",
   "metadata": {},
   "source": [
    "Test D_edge() on above randomly-generated digraph"
   ]
  },
  {
   "cell_type": "code",
   "execution_count": 18,
   "metadata": {},
   "outputs": [
    {
     "name": "stdout",
     "output_type": "stream",
     "text": [
      "Calling D_edge() for node  8\n",
      "Inbound topics for node 8 are  set()\n",
      "D is 0\n"
     ]
    }
   ],
   "source": [
    "#Implementation of D_edge outside of the Crowd class\n",
    "\n",
    "def edge_topics(v):\n",
    "\t\"\"\"\n",
    "\tRecursively determines what topics are transmitted by vertex v, these\n",
    "\t\tbeing those transmitted by its informants as well as v's own topic(s)\n",
    "\t:param v: vertex to evaluate\n",
    "\t:returns: set\n",
    "\t\"\"\"\n",
    "\t#print(\"Calling edge_topics() for node \", v)\n",
    "\ttopics = set()\n",
    "\n",
    "\t#first, topics transmitted by this node must include the topics transmitted by v itself\n",
    "\tself_topics =  DG.nodes[v]['T']\n",
    "\tif type(self_topics) == int: topics.add(self_topics) #the data parser typically gives only one topic per node\n",
    "\tif type(self_topics) == set: topics = self_topics #if the data parser allows giving multiple topics per node\n",
    "\tprint(\"Node\", v, \"'s topic: \", topics)\t\n",
    "\n",
    "\t#Secondly, the topics transmitted by v include those transmitted by its informants\n",
    "\tsource_edges = DG.in_edges(v)\n",
    "\tfor edge in source_edges:  # include the topics transmitted by v's informants\n",
    "\t\tfor t in edge_topics(edge[0]): topics.add(t)\n",
    "\t\t#print(\"Edge: \",edge, DG.nodes[edge[0]]['T'])\n",
    "\t\t#topics.add(DG.nodes[edge[0]]['T'])\n",
    "\t\t#print(\"Topics: \", topics)\n",
    "\tfor edge in DG.out_edges(v): DG.edges[edge]['T'] = topics\n",
    "\t#for edge in DG.out_edges(v): print(\"Node\", edge[0], \"'s outgoing topics currently are \", DG.edges[edge]['T'])\n",
    "\t#print(\"Final topics for node\", v, \" \", topics)\n",
    "\treturn topics\n",
    "\n",
    "\n",
    "def D_edge(v):\n",
    "\t\"\"\"\n",
    "\tCalculating D edge-wise by seeing which topics are transmitted by the \n",
    "\t\tinformants of vertex v per (Sullivan et al. 2020)\n",
    "\t:param v: vertex to evaluate\n",
    "\t:returns: integer D_edge, in range 0 <= D_edge\n",
    "\t\"\"\"\n",
    "\tprint(\"Calling D_edge() for node \", v) \n",
    "\tin_topics = set()\n",
    "\tfor edge in DG.predecessors(v):\n",
    "\t\tt = edge_topics(edge)\n",
    "\t\tfor i in t: in_topics.add(i)\n",
    "\tprint(\"Inbound topics for node\", v, \"are \", in_topics)\n",
    "\treturn len(in_topics)\n",
    "\n",
    "print(\"D is\", D_edge(8))"
   ]
  }
 ],
 "metadata": {
  "interpreter": {
   "hash": "a707b6ce8c685eb936424fcc3009d4b4b7a52543c4db09380a3fc49186ceb509"
  },
  "kernelspec": {
   "display_name": "Python 3.8.12 64-bit ('base': conda)",
   "name": "python3"
  },
  "language_info": {
   "codemirror_mode": {
    "name": "ipython",
    "version": 3
   },
   "file_extension": ".py",
   "mimetype": "text/x-python",
   "name": "python",
   "nbconvert_exporter": "python",
   "pygments_lexer": "ipython3",
   "version": "3.8.12"
  }
 },
 "nbformat": 4,
 "nbformat_minor": 2
}
