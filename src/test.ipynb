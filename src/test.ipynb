{
 "cells": [
  {
   "cell_type": "code",
   "execution_count": 1,
   "metadata": {},
   "outputs": [],
   "source": [
    "from wisdom_of_crowds import Crowd\n",
    "import networkx as nx\n",
    "import random"
   ]
  },
  {
   "cell_type": "code",
   "execution_count": 2,
   "metadata": {},
   "outputs": [
    {
     "data": {
      "image/png": "[encoded data removed]",
      "text/plain": [
       "<Figure size 640x480 with 1 Axes>"
      ]
     },
     "metadata": {},
     "output_type": "display_data"
    }
   ],
   "source": [
    "seed = 12  # Seed random number generators for reproducibility\n",
    "DG = nx.fast_gnp_random_graph(10, 0.1, seed=seed, directed=True)\n",
    "\n",
    "DG.remove_edges_from(nx.selfloop_edges(DG))\n",
    "\n",
    "labels={}\n",
    "for n in DG:\n",
    "    labels[n] = n\n",
    "\"\"\"for node in DG:\n",
    "    num_topics = random.randint(0,2) + 1\n",
    "    topic = set()\n",
    "    for i in range(num_topics):\n",
    "        die = random.randint(0, 5) + 1\n",
    "        topic.update(chr(ord('@')+die))\n",
    "    DG.nodes[node]['T'] = topic\n",
    "    if len(topic)==1:\n",
    "        for t in topic:\n",
    "            labels[node] = node, t\n",
    "    else:\n",
    "        labels[node] = node, topic\n",
    "    output = str()\n",
    "    for p in DG.predecessors(node):\n",
    "        output += str(p)\n",
    "        output += \" \"\n",
    "    print(\"Node: \", node, \"Topic: \", DG.nodes[node]['T'], \"Predecessors: \", output) \"\"\"\n",
    "\n",
    "\n",
    "nx.draw_planar(DG, labels=labels)"
   ]
  },
  {
   "cell_type": "code",
   "execution_count": 3,
   "metadata": {},
   "outputs": [],
   "source": [
    "test = Crowd(DG)\n",
    "reverse = Crowd(nx.reverse(DG))"
   ]
  },
  {
   "cell_type": "code",
   "execution_count": 4,
   "metadata": {},
   "outputs": [
    {
     "name": "stdout",
     "output_type": "stream",
     "text": [
      "Test result  for T for node 0 is (6, 3, 2) and h_t is 2 and for S is (0, 0, 0) and h is 0\n",
      "Test result  for T for node 1 is (0, 0, 0) and h_t is 0 and for S is (0, 0, 0) and h is 0\n",
      "Test result  for T for node 2 is (10, 5, 2) and h_t is 2 and for S is (0, 0, 0) and h is 0\n",
      "Test result  for T for node 3 is (0, 0, 0) and h_t is 0 and for S is (0, 0, 0) and h is 0\n",
      "Test result  for T for node 4 is (0, 0, 0) and h_t is 0 and for S is (0, 0, 0) and h is 0\n",
      "Test result  for T for node 5 is (0, 0, 0) and h_t is 0 and for S is (10, 5, 2) and h is 2\n",
      "Test result  for T for node 6 is (0, 0, 0) and h_t is 0 and for S is (0, 0, 0) and h is 0\n",
      "Test result  for T for node 7 is (0, 0, 0) and h_t is 0 and for S is (0, 0, 0) and h is 0\n",
      "Test result  for T for node 8 is (0, 0, 0) and h_t is 0 and for S is (10, 5, 2) and h is 2\n",
      "Test result  for T for node 9 is (10, 5, 2) and h_t is 2 and for S is (2, 1, 2) and h is 1\n",
      "All nodes match the ground truth!\n"
     ]
    }
   ],
   "source": [
    "r_output = reverse.census()\n",
    "t_output = test.census(topics=True)\n",
    "\n",
    "mismatch = False\n",
    "for n in t_output:\n",
    "\tprint(\"Test result  for T for node {} is {} and h_t is {} and for S is {} and h is {}\".format(n, t_output[n]['St'], t_output[n]['Ht'], t_output[n]['S'], t_output[n]['H']))\n",
    "\tif t_output[n]['St'] != r_output[n]['S']:\n",
    "\t\tmismatch = True\n",
    "\t\tprint(\"GROUND TRUTH for T for node {} is {} and h_t is {}\".format(n, r_output[n]['S'], r_output[n]['H']))\n",
    "\t\t\n",
    "if mismatch == False:\n",
    "\tprint(\"All nodes match the ground truth!\")"
   ]
  },
  {
   "cell_type": "code",
   "execution_count": 5,
   "metadata": {},
   "outputs": [],
   "source": [
    "def dfs_postorder_edges(G, source=None, depth_limit=None,*, sort_neighbors=None):\n",
    "    edges = nx.dfs_labeled_edges(G, source=source, depth_limit=depth_limit, sort_neighbors=sort_neighbors)\n",
    "    for u,v,d in edges:\n",
    "        if d == 'reverse' or  d == 'nontree':\n",
    "            yield u,v"
   ]
  },
  {
   "cell_type": "code",
   "execution_count": 11,
   "metadata": {},
   "outputs": [
    {
     "name": "stdout",
     "output_type": "stream",
     "text": [
      "8 's predecessors:   0 2 3\n",
      "D for 8 is 1\n",
      "D for 8 calculated edge-wise is 0\n",
      "D for 8 limited to distance of 3 is 0\n",
      "D for 8 looking only at sources {0, 3} is 0\n",
      "0: D:1 S:0 pi:0 St:6 pi_t:6\n",
      "1: D:1 S:0 pi:0 St:0 pi_t:0\n",
      "2: D:0 S:0 pi:0 St:10 pi_t:0\n",
      "3: D:1 S:0 pi:0 St:0 pi_t:0\n",
      "4: D:1 S:0 pi:0 St:0 pi_t:0\n",
      "5: D:1 S:10 pi:10 St:0 pi_t:0\n",
      "6: D:1 S:0 pi:0 St:0 pi_t:0\n",
      "7: D:0 S:0 pi:0 St:0 pi_t:0\n",
      "8: D:1 S:10 pi:10 St:0 pi_t:0\n",
      "9: D:1 S:2 pi:2 St:10 pi_t:10\n"
     ]
    }
   ],
   "source": [
    "debug_output = \"\"\n",
    "\n",
    "test_node = 8\n",
    "for edge in DG.predecessors(test_node):\n",
    "\tdebug_output += \" \" + str(edge)\n",
    "print(test_node, \"'s predecessors: \", debug_output)\n",
    "print(\"D for\", test_node, \"is\", test.D(test_node))\n",
    "print(\"D for\", test_node, \"calculated edge-wise is\", test.D_edge(test_node))\n",
    "d_l = 3\n",
    "print(\"D for\", test_node, \"limited to distance of\", d_l, \"is\", test.D_edge(test_node, depth=d_l))\n",
    "selection = {3, 0}\n",
    "print(\"D for {} looking only at sources {} is\".format(test_node, selection), test.D_edge(test_node, selection=selection))"
   ]
  },
  {
   "cell_type": "code",
   "execution_count": 14,
   "metadata": {},
   "outputs": [
    {
     "name": "stdout",
     "output_type": "stream",
     "text": [
      "0: D:1 S:0 pi:0 St:6 pi_t:6\n",
      "1: D:1 S:0 pi:0 St:0 pi_t:0\n",
      "2: D:0 S:0 pi:0 St:10 pi_t:0\n",
      "3: D:1 S:0 pi:0 St:0 pi_t:0\n",
      "4: D:1 S:0 pi:0 St:0 pi_t:0\n",
      "5: D:1 S:10 pi:10 St:0 pi_t:0\n",
      "6: D:1 S:0 pi:0 St:0 pi_t:0\n",
      "7: D:0 S:0 pi:0 St:0 pi_t:0\n",
      "8: D:1 S:10 pi:10 St:0 pi_t:0\n",
      "9: D:1 S:2 pi:2 St:10 pi_t:10\n"
     ]
    }
   ],
   "source": [
    "for n in DG:\n",
    "\tprint(\"{}: D:{} S:{} pi:{} St:{} pi_t:{}\".format(n, t_output[n]['D'], t_output[n]['S'][0], t_output[n]['pi'], t_output[n]['St'][0], t_output[n]['pi_t']))\n"
   ]
  },
  {
   "cell_type": "code",
   "execution_count": 7,
   "metadata": {},
   "outputs": [
    {
     "name": "stdout",
     "output_type": "stream",
     "text": [
      "S for 9 is 2 and H is 1\n",
      "Ground truth for T for test node is (10, 5, 2) and h_t is 2\n",
      "Test result is 10 2\n"
     ]
    }
   ],
   "source": [
    "test_node=9\n",
    "print(\"S for\", test_node, \"is\", test.S(test_node), \"and H is\", test.h_measure(test_node))\n",
    "reverse = Crowd(nx.reverse(DG))\n",
    "\n",
    "print(\"Ground truth for T for test node is\", reverse.S(test_node), \"and h_t is\", reverse.h_measure(test_node))\n",
    "print(\"Test result is\", test.S(test_node, transmit=True), test.h_measure(test_node, transmit=True))"
   ]
  },
  {
   "cell_type": "code",
   "execution_count": 8,
   "metadata": {},
   "outputs": [
    {
     "name": "stdout",
     "output_type": "stream",
     "text": [
      "Node:  0 Topic:  {'F'} Predecessors:  5 36 43 54 75 88 90 \n",
      "Node:  1 Topic:  {'A', 'F', 'C'} Predecessors:  14 15 29 33 82 83 90 \n",
      "Node:  2 Topic:  {'F', 'E'} Predecessors:  21 51 75 \n",
      "Node:  3 Topic:  {'F', 'D'} Predecessors:  4 12 38 41 83 \n",
      "Node:  4 Topic:  {'E', 'C', 'B'} Predecessors:  15 26 74 82 86 \n",
      "Node:  5 Topic:  {'A'} Predecessors:  15 52 58 62 84 \n",
      "Node:  6 Topic:  {'A', 'F'} Predecessors:  13 88 \n",
      "Node:  7 Topic:  {'D', 'B'} Predecessors:  14 41 63 71 94 \n",
      "Node:  8 Topic:  {'F', 'B'} Predecessors:  25 40 71 80 99 \n",
      "Node:  9 Topic:  {'D', 'E'} Predecessors:  23 38 53 69 90 \n",
      "Node:  10 Topic:  {'F'} Predecessors:  25 32 34 47 \n",
      "Node:  11 Topic:  {'D'} Predecessors:  6 9 10 13 82 83 91 \n",
      "Node:  12 Topic:  {'A', 'E', 'B'} Predecessors:  57 89 \n",
      "Node:  13 Topic:  {'D', 'A', 'F'} Predecessors:  33 \n",
      "Node:  14 Topic:  {'C'} Predecessors:  35 37 66 70 72 81 88 91 99 \n",
      "Node:  15 Topic:  {'C'} Predecessors:  22 34 50 88 \n",
      "Node:  16 Topic:  {'A', 'C'} Predecessors:  30 47 57 \n",
      "Node:  17 Topic:  {'F', 'C'} Predecessors:  28 40 82 91 \n",
      "Node:  18 Topic:  {'A', 'B'} Predecessors:  22 24 41 57 63 \n",
      "Node:  19 Topic:  {'E'} Predecessors:  25 31 32 55 63 65 80 88 \n",
      "Node:  20 Topic:  {'C'} Predecessors:  4 8 11 60 \n",
      "Node:  21 Topic:  {'C'} Predecessors:  12 29 46 54 77 83 88 \n",
      "Node:  22 Topic:  {'E', 'B'} Predecessors:  0 29 79 \n",
      "Node:  23 Topic:  {'E', 'B'} Predecessors:  21 45 55 80 \n",
      "Node:  24 Topic:  {'E', 'B'} Predecessors:  4 56 76 \n",
      "Node:  25 Topic:  {'D'} Predecessors:  95 97 99 \n",
      "Node:  26 Topic:  {'D'} Predecessors:  18 27 32 42 48 72 92 \n",
      "Node:  27 Topic:  {'D', 'B'} Predecessors:  0 18 32 40 54 61 73 81 87 99 \n",
      "Node:  28 Topic:  {'D', 'E', 'C'} Predecessors:  34 45 51 54 63 92 96 \n",
      "Node:  29 Topic:  {'A', 'D', 'E'} Predecessors:  16 32 51 58 \n",
      "Node:  30 Topic:  {'A'} Predecessors:  10 72 74 \n",
      "Node:  31 Topic:  {'E'} Predecessors:  62 72 91 \n",
      "Node:  32 Topic:  {'F'} Predecessors:  0 25 26 37 38 47 50 57 64 \n",
      "Node:  33 Topic:  {'F'} Predecessors:  65 86 \n",
      "Node:  34 Topic:  {'E', 'C'} Predecessors:  3 21 29 35 43 53 68 72 86 \n",
      "Node:  35 Topic:  {'E'} Predecessors:  0 52 78 89 92 \n",
      "Node:  36 Topic:  {'E', 'B'} Predecessors:  2 20 48 60 \n",
      "Node:  37 Topic:  {'A', 'F'} Predecessors:  44 59 62 66 85 88 93 99 \n",
      "Node:  38 Topic:  {'A', 'E'} Predecessors:  2 31 46 50 52 56 57 81 \n",
      "Node:  39 Topic:  {'C'} Predecessors:  59 74 96 97 \n",
      "Node:  40 Topic:  {'E', 'B'} Predecessors:  18 35 43 53 54 72 \n",
      "Node:  41 Topic:  {'C'} Predecessors:  19 38 47 74 87 90 \n",
      "Node:  42 Topic:  {'A', 'E'} Predecessors:  3 56 59 71 \n",
      "Node:  43 Topic:  {'A', 'D', 'C'} Predecessors:  23 31 45 53 82 85 88 \n",
      "Node:  44 Topic:  {'F', 'E', 'C'} Predecessors:  18 59 80 85 \n",
      "Node:  45 Topic:  {'F'} Predecessors:  35 56 63 70 93 \n",
      "Node:  46 Topic:  {'E', 'B'} Predecessors:  11 14 58 68 \n",
      "Node:  47 Topic:  {'E'} Predecessors:  3 25 29 30 45 46 61 69 73 75 \n",
      "Node:  48 Topic:  {'C'} Predecessors:  51 78 \n",
      "Node:  49 Topic:  {'F', 'E', 'B'} Predecessors:  2 16 31 42 50 63 70 78 \n",
      "Node:  50 Topic:  {'F', 'A', 'C'} Predecessors:  15 57 71 80 \n",
      "Node:  51 Topic:  {'E', 'B'} Predecessors:  14 22 32 50 67 76 90 \n",
      "Node:  52 Topic:  {'F'} Predecessors:  6 24 40 58 76 82 93 \n",
      "Node:  53 Topic:  {'E'} Predecessors:  0 22 37 39 66 78 92 \n",
      "Node:  54 Topic:  {'D'} Predecessors:  74 75 77 87 90 \n",
      "Node:  55 Topic:  {'D', 'E'} Predecessors:  43 52 56 61 73 \n",
      "Node:  56 Topic:  {'A', 'F', 'C'} Predecessors:  9 20 58 68 70 \n",
      "Node:  57 Topic:  {'D'} Predecessors:  16 66 69 79 85 \n",
      "Node:  58 Topic:  {'D', 'F'} Predecessors:  19 33 43 45 68 89 \n",
      "Node:  59 Topic:  {'F', 'E', 'B'} Predecessors:  32 36 52 74 86 88 \n",
      "Node:  60 Topic:  {'C'} Predecessors:  2 10 19 24 25 40 79 \n",
      "Node:  61 Topic:  {'D', 'B'} Predecessors:  11 32 37 78 93 \n",
      "Node:  62 Topic:  {'D'} Predecessors:  0 2 13 48 \n",
      "Node:  63 Topic:  {'A', 'B'} Predecessors:  36 49 \n",
      "Node:  64 Topic:  {'F'} Predecessors:  23 37 52 69 74 93 \n",
      "Node:  65 Topic:  {'C'} Predecessors:  6 90 \n",
      "Node:  66 Topic:  {'F', 'C'} Predecessors:  34 61 96 \n",
      "Node:  67 Topic:  {'E', 'B'} Predecessors:  8 34 55 64 81 \n",
      "Node:  68 Topic:  {'A'} Predecessors:  27 61 72 83 84 \n",
      "Node:  69 Topic:  {'E'} Predecessors:  12 68 77 79 87 \n",
      "Node:  70 Topic:  {'A', 'B'} Predecessors:  0 14 34 43 47 \n",
      "Node:  71 Topic:  {'A'} Predecessors:  0 12 19 20 93 99 \n",
      "Node:  72 Topic:  {'C'} Predecessors:  16 25 28 33 39 79 87 89 91 \n",
      "Node:  73 Topic:  {'D'} Predecessors:  7 11 18 20 33 38 47 83 88 \n",
      "Node:  74 Topic:  {'E', 'B'} Predecessors:  0 51 \n",
      "Node:  75 Topic:  {'D'} Predecessors:  13 14 24 61 62 67 85 \n",
      "Node:  76 Topic:  {'E', 'B'} Predecessors:  6 16 44 69 81 82 98 \n",
      "Node:  77 Topic:  {'A'} Predecessors:  6 12 18 25 27 49 53 \n",
      "Node:  78 Topic:  {'E', 'B'} Predecessors:  19 40 42 56 75 76 79 83 85 \n",
      "Node:  79 Topic:  {'D', 'E'} Predecessors:  12 13 42 43 63 88 \n",
      "Node:  80 Topic:  {'A'} Predecessors:  67 \n",
      "Node:  81 Topic:  {'F'} Predecessors:  24 30 45 48 57 \n",
      "Node:  82 Topic:  {'E'} Predecessors:  15 49 50 60 80 83 86 88 91 \n",
      "Node:  83 Topic:  {'D'} Predecessors:  2 34 78 94 \n",
      "Node:  84 Topic:  {'A', 'E'} Predecessors:  11 20 57 72 77 99 \n",
      "Node:  85 Topic:  {'F'} Predecessors:  0 4 40 54 78 \n",
      "Node:  86 Topic:  {'A', 'D'} Predecessors:  27 \n",
      "Node:  87 Topic:  {'D'} Predecessors:  12 17 28 69 \n",
      "Node:  88 Topic:  {'E'} Predecessors:  10 20 41 46 50 52 62 68 83 91 \n",
      "Node:  89 Topic:  {'F', 'E'} Predecessors:  64 68 84 \n",
      "Node:  90 Topic:  {'A'} Predecessors:  34 52 67 92 94 \n",
      "Node:  91 Topic:  {'F'} Predecessors:  6 7 65 88 \n",
      "Node:  92 Topic:  {'E', 'C'} Predecessors:  30 65 68 70 74 88 94 95 \n",
      "Node:  93 Topic:  {'D'} Predecessors:  51 \n",
      "Node:  94 Topic:  {'D', 'A', 'F'} Predecessors:  5 16 35 62 70 96 \n",
      "Node:  95 Topic:  {'D', 'C'} Predecessors:  45 \n",
      "Node:  96 Topic:  {'C', 'B'} Predecessors:  6 32 78 \n",
      "Node:  97 Topic:  {'D', 'A', 'E'} Predecessors:  14 35 43 50 56 58 \n",
      "Node:  98 Topic:  {'A', 'E', 'F'} Predecessors:  12 19 20 28 31 43 51 55 68 79 88 \n",
      "Node:  99 Topic:  {'E', 'C'} Predecessors:  23 31 47 89 \n"
     ]
    }
   ],
   "source": [
    "seed = 22  # Seed random number generators for reproducibility\n",
    "LG = nx.fast_gnp_random_graph(100, 0.05, seed=seed, directed=True)\n",
    "\n",
    "LG.remove_edges_from(nx.selfloop_edges(DG))\n",
    "\n",
    "labels = {}\n",
    "for node in LG:\n",
    "    num_topics = random.randint(0,2) + 1\n",
    "    topic = set()\n",
    "    for i in range(num_topics):\n",
    "        die = random.randint(0, 5) + 1\n",
    "        topic.update(chr(ord('@')+die))\n",
    "    LG.nodes[node]['T'] = topic\n",
    "    if len(topic)==1:\n",
    "        for t in topic:\n",
    "            labels[node] = node, t\n",
    "    else:\n",
    "        labels[node] = node, topic\n",
    "    output = str()\n",
    "    for p in LG.predecessors(node):\n",
    "        output += str(p)\n",
    "        output += \" \"\n",
    "    print(\"Node: \", node, \"Topic: \", LG.nodes[node]['T'], \"Predecessors: \", output)"
   ]
  },
  {
   "cell_type": "code",
   "execution_count": 9,
   "metadata": {},
   "outputs": [
    {
     "name": "stdout",
     "output_type": "stream",
     "text": [
      "All nodes match the ground truth!\n"
     ]
    }
   ],
   "source": [
    "large_test = Crowd(LG)\n",
    "large_reverse = Crowd(nx.reverse(LG))\n",
    "test_node=14\n",
    "large_test.max_m=10\n",
    "\n",
    "\"\"\" print(\"S for\", test_node, \"is\", large_test.S(test_node), \"and H is\", large_test.h_measure(test_node))\n",
    "\n",
    "print(\"Ground truth for T for test node is\", large_reverse.S(test_node), \"and h_t is\", large_reverse.h_measure(test_node))\n",
    "print(\"Test result is\", large_test.T(test_node), large_test.ht_measure(test_node)) \"\"\"\n",
    "\n",
    "l_r_output = large_reverse.census()\n",
    "l_t_output = large_test.census()\n",
    "\n",
    "mismatch = False\n",
    "for n in l_t_output:\n",
    "\tif l_t_output[n]['St'] != l_r_output[n]['S']:\n",
    "\t\tmismatch = True\n",
    "\t\tprint(\"Ground truth for T for node {} is {} and h_t is {}\".format(n, l_r_output[n]['S'], l_r_output[n]['H']))\n",
    "\t\tprint(\"Test result  for T for node {} is {} and h_t is {}\".format(n, l_t_output[n]['St'], l_t_output[n]['Ht']))\n",
    "if not mismatch:\n",
    "\tprint(\"All nodes match the ground truth!\")\n"
   ]
  }
 ],
 "metadata": {
  "kernelspec": {
   "display_name": ".venv",
   "language": "python",
   "name": "python3"
  },
  "language_info": {
   "codemirror_mode": {
    "name": "ipython",
    "version": 3
   },
   "file_extension": ".py",
   "mimetype": "text/x-python",
   "name": "python",
   "nbconvert_exporter": "python",
   "pygments_lexer": "ipython3",
   "version": "3.12.6"
  }
 },
 "nbformat": 4,
 "nbformat_minor": 2
}
